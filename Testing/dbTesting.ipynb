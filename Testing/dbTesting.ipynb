{
 "cells": [
  {
   "cell_type": "code",
   "execution_count": 1,
   "metadata": {},
   "outputs": [],
   "source": [
    "# Database Testing\n",
    "# Used for testing the returned output of SQL Server stored prodecures."
   ]
  },
  {
   "cell_type": "code",
   "execution_count": 2,
   "metadata": {},
   "outputs": [],
   "source": [
    "import pyodbc"
   ]
  },
  {
   "cell_type": "code",
   "execution_count": null,
   "metadata": {},
   "outputs": [],
   "source": [
    "# Formatted connection string for the SQL DB.\n",
    "SQL_CONN_STR = 'DSN=Salford-SQL-Server;Database='+DATABASE+';Trusted_Connection=no;UID='+UNAME+';PWD='+PWD+';'\n"
   ]
  },
  {
   "cell_type": "code",
   "execution_count": null,
   "metadata": {},
   "outputs": [],
   "source": [
    "# Database connection function\n",
    "def dbConnect():\n",
    "\tprint('dbConnect')\n",
    "\ttry:\n",
    "\t\tprint('Connecting to database...')\n",
    "\t\t# Create a new connection to the SQL Server using the prepared connection string\n",
    "\t\tcnxn = pyodbc.connect(SQL_CONN_STR)\n",
    "\texcept pyodbc.Error as e:\n",
    "\t\t# Print error is one should occur\n",
    "\t\tsqlstate = e.args[1]\n",
    "\t\tprint(\"An error occurred connecting to the database: \" + sqlstate)\n",
    "\t\tabort(500)\n",
    "\telse:\n",
    "\t\treturn cnxn"
   ]
  },
  {
   "cell_type": "code",
   "execution_count": null,
   "metadata": {},
   "outputs": [],
   "source": [
    "# \n",
    "def execProcedure(conn, sql, params):\n",
    "\t# Create new cursor from existing connection \n",
    "\tcursor = conn.cursor\n",
    "\t# Execute the SQL statement with the parameters prepared\n",
    "\tcursor.execute(sql, params)\n",
    "\t# Fetch all results for the executed statement\n",
    "\trows = cursor.fetchall()\n",
    "\twhile rows:\n",
    "\t\tprint(rows)\n",
    "\t\tif cursor.nextset():\n",
    "\t\t\trows = cursor.fetchall()\n",
    "\t\telse:\n",
    "\t\t\trows = None\n",
    "\t# Close open database cursor\n",
    "\tcursor.close"
   ]
  }
 ],
 "metadata": {
  "language_info": {
   "codemirror_mode": {
    "name": "ipython",
    "version": 3
   },
   "file_extension": ".py",
   "mimetype": "text/x-python",
   "name": "python",
   "nbconvert_exporter": "python",
   "pygments_lexer": "ipython3",
   "version": "3.8.3-final"
  },
  "orig_nbformat": 2,
  "kernelspec": {
   "name": "python3",
   "display_name": "Python 3"
  }
 },
 "nbformat": 4,
 "nbformat_minor": 2
}